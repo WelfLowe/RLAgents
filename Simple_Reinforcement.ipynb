{
  "cells": [
    {
      "cell_type": "markdown",
      "metadata": {
        "id": "view-in-github",
        "colab_type": "text"
      },
      "source": [
        "<a href=\"https://colab.research.google.com/github/WelfLowe/RLAgents/blob/main/Simple_Reinforcement.ipynb\" target=\"_parent\"><img src=\"https://colab.research.google.com/assets/colab-badge.svg\" alt=\"Open In Colab\"/></a>"
      ]
    },
    {
      "cell_type": "markdown",
      "source": [
        "# Import libraries"
      ],
      "metadata": {
        "id": "lxjJNKvQKKGl"
      }
    },
    {
      "cell_type": "code",
      "source": [
        "!pip install gym"
      ],
      "metadata": {
        "colab": {
          "base_uri": "https://localhost:8080/"
        },
        "id": "pvsTb3ixKhz1",
        "outputId": "38357ab8-0a3e-4841-8173-664ac0e5e6a3"
      },
      "execution_count": null,
      "outputs": [
        {
          "output_type": "stream",
          "name": "stdout",
          "text": [
            "Requirement already satisfied: gym in /usr/local/lib/python3.10/dist-packages (0.25.2)\n",
            "Requirement already satisfied: numpy>=1.18.0 in /usr/local/lib/python3.10/dist-packages (from gym) (1.26.4)\n",
            "Requirement already satisfied: cloudpickle>=1.2.0 in /usr/local/lib/python3.10/dist-packages (from gym) (3.1.0)\n",
            "Requirement already satisfied: gym_notices>=0.0.4 in /usr/local/lib/python3.10/dist-packages (from gym) (0.0.8)\n"
          ]
        }
      ]
    },
    {
      "cell_type": "code",
      "execution_count": null,
      "metadata": {
        "id": "7MlOTegmq9xY"
      },
      "outputs": [],
      "source": [
        "import gym\n",
        "import numpy as np\n",
        "import matplotlib.pyplot as plt"
      ]
    },
    {
      "cell_type": "markdown",
      "metadata": {
        "id": "nGRrgYdpJKlu"
      },
      "source": [
        "# Initialize the environment"
      ]
    },
    {
      "cell_type": "markdown",
      "source": [
        "CartPole-v1 is an environment where a cart must balance a pole.\n",
        "* The state consists of four continuous values: cart position, cart velocity, pole angle, and pole velocity.\n",
        "* The actions are 0 (move left) and 1 (move right)."
      ],
      "metadata": {
        "id": "RR6ffRiTZMWw"
      }
    },
    {
      "cell_type": "code",
      "execution_count": null,
      "metadata": {
        "id": "jc4DhLaItV5c"
      },
      "outputs": [],
      "source": [
        "env = gym.make(\"CartPole-v1\")"
      ]
    },
    {
      "cell_type": "markdown",
      "source": [
        "# Q-Learning"
      ],
      "metadata": {
        "id": "c4Ka3IHVQPVO"
      }
    },
    {
      "cell_type": "markdown",
      "source": [
        "An agent explores with probability epsilon and exploits (chooses the best action) otherwise.\n",
        "The exploration rate epsilon decreases over time to favor exploitation as the agent learns.\n"
      ],
      "metadata": {
        "id": "cETDIqw8ZZsd"
      }
    },
    {
      "cell_type": "code",
      "source": [
        "alpha = 0.1       # Learning rate\n",
        "gamma = 0.99      # Discount factor\n",
        "epsilon = 1.0     # Exploration rate\n",
        "epsilon_decay = 0.995\n",
        "epsilon_min = 0.01\n",
        "episodes = 10000    # Number of episodes\n"
      ],
      "metadata": {
        "id": "me4uZYQqQNeP"
      },
      "execution_count": null,
      "outputs": []
    },
    {
      "cell_type": "markdown",
      "source": [
        "# Observation and action space"
      ],
      "metadata": {
        "id": "MMe-4ExGWVzF"
      }
    },
    {
      "cell_type": "markdown",
      "source": [
        "The observation state space here is discretized while the original state space is continuous."
      ],
      "metadata": {
        "id": "o15B2Kb7Z5m1"
      }
    },
    {
      "cell_type": "code",
      "source": [
        "obs_space_high = env.observation_space.high\n",
        "obs_space_low = env.observation_space.low\n",
        "obs_space_high[1] = 0.5  # Limit cart velocity\n",
        "obs_space_low[1] = -0.5\n",
        "obs_space_high[3] = 50   # Limit pole velocity\n",
        "obs_space_low[3] = -50\n",
        "bins = [20, 20, 20, 20]  # Number of bins for discretization\n",
        "obs_space = [np.linspace(low, high, b) for low, high, b in zip(obs_space_low, obs_space_high, bins)]"
      ],
      "metadata": {
        "id": "Oi61AjVGQ0S5"
      },
      "execution_count": null,
      "outputs": []
    },
    {
      "cell_type": "markdown",
      "source": [
        "The Q-table is a lookup table that stores the expected reward for each state-action pair. It is initialized with zeros."
      ],
      "metadata": {
        "id": "OZyrHc2Fap6E"
      }
    },
    {
      "cell_type": "code",
      "source": [
        "q_table = np.zeros((*bins, env.action_space.n))"
      ],
      "metadata": {
        "id": "4lzic9hoaQyv"
      },
      "execution_count": null,
      "outputs": []
    },
    {
      "cell_type": "markdown",
      "source": [
        "# Train"
      ],
      "metadata": {
        "id": "ICmkZQ88WcgJ"
      }
    },
    {
      "cell_type": "code",
      "source": [
        "def discretize(state):\n",
        "    \"\"\"Converts continuous state into a discrete index.\"\"\"\n",
        "    return tuple(np.digitize(state[i], obs_space[i]) - 1 for i in range(len(state)))\n",
        "\n",
        "def choose_action(state, epsilon):\n",
        "    \"\"\"Chooses an action using an epsilon-greedy policy.\"\"\"\n",
        "    if np.random.rand() < epsilon:\n",
        "        return env.action_space.sample()\n",
        "    return np.argmax(q_table[state])\n",
        "\n",
        "# Training loop\n",
        "rewards = []\n",
        "for episode in range(episodes):\n",
        "    state = discretize(env.reset())\n",
        "    total_reward = 0\n",
        "    done = False\n",
        "\n",
        "    while not done:\n",
        "        action = choose_action(state, epsilon)\n",
        "        next_state, reward, done, _ = env.step(action)\n",
        "        next_state = discretize(next_state)\n",
        "\n",
        "        # Adjust reward for stability\n",
        "        if done and total_reward < 195:\n",
        "            reward = -10  # Penalize for early failure\n",
        "\n",
        "        # Update Q-value using a moving average\n",
        "        best_next_action = np.argmax(q_table[next_state])\n",
        "        q_table[state + (action,)] += alpha * (reward + gamma * q_table[next_state + (best_next_action,)] - q_table[state + (action,)])\n",
        "\n",
        "        state = next_state\n",
        "        total_reward += reward\n",
        "\n",
        "    # Decay epsilon\n",
        "    epsilon = max(epsilon_min, epsilon * epsilon_decay)\n",
        "    rewards.append(total_reward)\n",
        "\n",
        "    if episode % 1000 == 0:\n",
        "        print(f\"Episode {episode}: Total Reward: {total_reward}\")\n",
        "\n",
        "# Close the environment\n",
        "env.close()\n"
      ],
      "metadata": {
        "colab": {
          "base_uri": "https://localhost:8080/"
        },
        "id": "PPSdzp8DVi5Y",
        "outputId": "2851249d-07db-4903-ab34-8665e4b48352"
      },
      "execution_count": null,
      "outputs": [
        {
          "output_type": "stream",
          "name": "stdout",
          "text": [
            "Episode 0: Total Reward: 26.0\n",
            "Episode 1000: Total Reward: 22.0\n",
            "Episode 2000: Total Reward: 54.0\n",
            "Episode 3000: Total Reward: 116.0\n",
            "Episode 4000: Total Reward: 131.0\n",
            "Episode 5000: Total Reward: 70.0\n",
            "Episode 6000: Total Reward: 5.0\n",
            "Episode 7000: Total Reward: 60.0\n",
            "Episode 8000: Total Reward: 72.0\n",
            "Episode 9000: Total Reward: 82.0\n"
          ]
        }
      ]
    },
    {
      "cell_type": "markdown",
      "source": [
        "# Plot results"
      ],
      "metadata": {
        "id": "-4oYWlDfXapo"
      }
    },
    {
      "cell_type": "code",
      "source": [
        "# Smooth rewards for better visualization\n",
        "smoothed_rewards = np.convolve(rewards, np.ones(50)/50, mode='valid')\n",
        "\n",
        "# Plot the rewards\n",
        "plt.plot(smoothed_rewards)\n",
        "plt.xlabel(\"Episode\")\n",
        "plt.ylabel(\"Total Reward\")\n",
        "plt.title(\"Training Progress (Stabilized)\")\n",
        "plt.show()"
      ],
      "metadata": {
        "colab": {
          "base_uri": "https://localhost:8080/",
          "height": 472
        },
        "id": "YXr9bABGVmj3",
        "outputId": "3dda4a39-4376-4465-fab4-8c4aa37f9ecb"
      },
      "execution_count": null,
      "outputs": [
        {
          "output_type": "display_data",
          "data": {
            "text/plain": [
              "<Figure size 640x480 with 1 Axes>"
            ],
            "image/png": "[encoded data removed]"
          },
          "metadata": {}
        }
      ]
    },
    {
      "cell_type": "markdown",
      "source": [
        "# Taks:\n",
        "1. Understand the example\n",
        "1. Improve the final reward\n",
        "1. Improve the stability"
      ],
      "metadata": {
        "id": "DIa2oFI5ce74"
      }
    }
  ],
  "metadata": {
    "colab": {
      "provenance": [],
      "include_colab_link": true
    },
    "kernelspec": {
      "display_name": "myenv",
      "language": "python",
      "name": "python3"
    },
    "language_info": {
      "codemirror_mode": {
        "name": "ipython",
        "version": 3
      },
      "file_extension": ".py",
      "mimetype": "text/x-python",
      "name": "python",
      "nbconvert_exporter": "python",
      "pygments_lexer": "ipython3",
      "version": "3.13.0"
    }
  },
  "nbformat": 4,
  "nbformat_minor": 0
}