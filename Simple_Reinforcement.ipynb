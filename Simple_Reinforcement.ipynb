{
  "cells": [
    {
      "cell_type": "markdown",
      "metadata": {
        "id": "view-in-github",
        "colab_type": "text"
      },
      "source": [
        "<a href=\"https://colab.research.google.com/github/WelfLowe/RLAgents/blob/main/Simple_Reinforcement.ipynb\" target=\"_parent\"><img src=\"https://colab.research.google.com/assets/colab-badge.svg\" alt=\"Open In Colab\"/></a>"
      ]
    },
    {
      "cell_type": "markdown",
      "source": [
        "# Import libraries"
      ],
      "metadata": {
        "id": "lxjJNKvQKKGl"
      }
    },
    {
      "cell_type": "code",
      "source": [
        "!pip install gym"
      ],
      "metadata": {
        "id": "pvsTb3ixKhz1",
        "outputId": "38357ab8-0a3e-4841-8173-664ac0e5e6a3",
        "colab": {
          "base_uri": "https://localhost:8080/"
        }
      },
      "execution_count": 12,
      "outputs": [
        {
          "output_type": "stream",
          "name": "stdout",
          "text": [
            "Requirement already satisfied: gym in /usr/local/lib/python3.10/dist-packages (0.25.2)\n",
            "Requirement already satisfied: numpy>=1.18.0 in /usr/local/lib/python3.10/dist-packages (from gym) (1.26.4)\n",
            "Requirement already satisfied: cloudpickle>=1.2.0 in /usr/local/lib/python3.10/dist-packages (from gym) (3.1.0)\n",
            "Requirement already satisfied: gym_notices>=0.0.4 in /usr/local/lib/python3.10/dist-packages (from gym) (0.0.8)\n"
          ]
        }
      ]
    },
    {
      "cell_type": "code",
      "execution_count": 13,
      "metadata": {
        "id": "7MlOTegmq9xY"
      },
      "outputs": [],
      "source": [
        "import gym\n",
        "import numpy as np\n",
        "import matplotlib.pyplot as plt"
      ]
    },
    {
      "cell_type": "markdown",
      "metadata": {
        "id": "nGRrgYdpJKlu"
      },
      "source": [
        "# Initialize the environment"
      ]
    },
    {
      "cell_type": "code",
      "execution_count": 14,
      "metadata": {
        "id": "jc4DhLaItV5c"
      },
      "outputs": [],
      "source": [
        "env = gym.make(\"CartPole-v1\")"
      ]
    },
    {
      "cell_type": "markdown",
      "source": [
        "# Hyperparameters"
      ],
      "metadata": {
        "id": "c4Ka3IHVQPVO"
      }
    },
    {
      "cell_type": "code",
      "source": [
        "alpha = 0.1       # Learning rate\n",
        "gamma = 0.99      # Discount factor\n",
        "epsilon = 1.0     # Exploration rate\n",
        "epsilon_decay = 0.9995\n",
        "epsilon_min = 0.01\n",
        "episodes = 10000    # Number of episodes\n"
      ],
      "metadata": {
        "id": "me4uZYQqQNeP"
      },
      "execution_count": 37,
      "outputs": []
    },
    {
      "cell_type": "markdown",
      "source": [
        "# Discretize the observation space"
      ],
      "metadata": {
        "id": "MMe-4ExGWVzF"
      }
    },
    {
      "cell_type": "code",
      "source": [
        "bins = [10, 10, 10, 10]  # Number of bins for discretization\n",
        "obs_space_high = env.observation_space.high\n",
        "obs_space_low = env.observation_space.low\n",
        "obs_space_high[1] = 0.5  # Limit cart velocity\n",
        "obs_space_low[1] = -0.5\n",
        "obs_space_high[3] = 50   # Limit pole velocity\n",
        "obs_space_low[3] = -50\n",
        "obs_space = [np.linspace(low, high, b) for low, high, b in zip(obs_space_low, obs_space_high, bins)]"
      ],
      "metadata": {
        "id": "Oi61AjVGQ0S5"
      },
      "execution_count": 38,
      "outputs": []
    },
    {
      "cell_type": "markdown",
      "source": [
        "# Train"
      ],
      "metadata": {
        "id": "ICmkZQ88WcgJ"
      }
    },
    {
      "cell_type": "code",
      "source": [
        "def discretize(state):\n",
        "    \"\"\"Converts continuous state into a discrete index.\"\"\"\n",
        "    return tuple(np.digitize(state[i], obs_space[i]) - 1 for i in range(len(state)))\n",
        "\n",
        "# Initialize the Q-table\n",
        "q_table = np.zeros((*bins, env.action_space.n))\n",
        "\n",
        "def choose_action(state, epsilon):\n",
        "    \"\"\"Chooses an action using an epsilon-greedy policy.\"\"\"\n",
        "    if np.random.rand() < epsilon:\n",
        "        return env.action_space.sample()\n",
        "    return np.argmax(q_table[state])\n",
        "\n",
        "# Training loop\n",
        "rewards = []\n",
        "for episode in range(episodes):\n",
        "    state = discretize(env.reset())\n",
        "    total_reward = 0\n",
        "    done = False\n",
        "\n",
        "    while not done:\n",
        "        action = choose_action(state, epsilon)\n",
        "        next_state, reward, done, _ = env.step(action)\n",
        "        next_state = discretize(next_state)\n",
        "\n",
        "        # Adjust reward for stability\n",
        "        if done and total_reward < 195:\n",
        "            reward = -10  # Penalize for early failure\n",
        "\n",
        "        # Update Q-value using a moving average\n",
        "        best_next_action = np.argmax(q_table[next_state])\n",
        "        q_table[state + (action,)] += alpha * (reward + gamma * q_table[next_state + (best_next_action,)] - q_table[state + (action,)])\n",
        "\n",
        "        state = next_state\n",
        "        total_reward += reward\n",
        "\n",
        "    # Decay epsilon\n",
        "    epsilon = max(epsilon_min, epsilon * epsilon_decay)\n",
        "    rewards.append(total_reward)\n",
        "\n",
        "    if episode % 100 == 0:\n",
        "        print(f\"Episode {episode}: Total Reward: {total_reward}\")\n",
        "\n",
        "# Close the environment\n",
        "env.close()\n"
      ],
      "metadata": {
        "id": "PPSdzp8DVi5Y",
        "outputId": "9efb50d9-5b57-4978-804e-35ec8044b0d6",
        "colab": {
          "base_uri": "https://localhost:8080/"
        }
      },
      "execution_count": 39,
      "outputs": [
        {
          "output_type": "stream",
          "name": "stdout",
          "text": [
            "Episode 0: Total Reward: 2.0\n",
            "Episode 100: Total Reward: 5.0\n",
            "Episode 200: Total Reward: 14.0\n",
            "Episode 300: Total Reward: 19.0\n",
            "Episode 400: Total Reward: 20.0\n",
            "Episode 500: Total Reward: 29.0\n",
            "Episode 600: Total Reward: 0.0\n",
            "Episode 700: Total Reward: 50.0\n",
            "Episode 800: Total Reward: 9.0\n",
            "Episode 900: Total Reward: 28.0\n",
            "Episode 1000: Total Reward: 90.0\n",
            "Episode 1100: Total Reward: 6.0\n",
            "Episode 1200: Total Reward: 19.0\n",
            "Episode 1300: Total Reward: 28.0\n",
            "Episode 1400: Total Reward: 48.0\n",
            "Episode 1500: Total Reward: 19.0\n",
            "Episode 1600: Total Reward: 4.0\n",
            "Episode 1700: Total Reward: 36.0\n",
            "Episode 1800: Total Reward: 6.0\n",
            "Episode 1900: Total Reward: 70.0\n",
            "Episode 2000: Total Reward: 45.0\n",
            "Episode 2100: Total Reward: 36.0\n",
            "Episode 2200: Total Reward: 63.0\n",
            "Episode 2300: Total Reward: 34.0\n",
            "Episode 2400: Total Reward: 90.0\n",
            "Episode 2500: Total Reward: 90.0\n",
            "Episode 2600: Total Reward: 25.0\n",
            "Episode 2700: Total Reward: 21.0\n",
            "Episode 2800: Total Reward: 23.0\n",
            "Episode 2900: Total Reward: 16.0\n",
            "Episode 3000: Total Reward: 15.0\n",
            "Episode 3100: Total Reward: 46.0\n",
            "Episode 3200: Total Reward: 69.0\n",
            "Episode 3300: Total Reward: 29.0\n",
            "Episode 3400: Total Reward: 8.0\n",
            "Episode 3500: Total Reward: 110.0\n",
            "Episode 3600: Total Reward: 34.0\n",
            "Episode 3700: Total Reward: 8.0\n",
            "Episode 3800: Total Reward: 81.0\n",
            "Episode 3900: Total Reward: 75.0\n",
            "Episode 4000: Total Reward: 38.0\n",
            "Episode 4100: Total Reward: 182.0\n",
            "Episode 4200: Total Reward: 50.0\n",
            "Episode 4300: Total Reward: 104.0\n",
            "Episode 4400: Total Reward: 32.0\n",
            "Episode 4500: Total Reward: 55.0\n",
            "Episode 4600: Total Reward: 94.0\n",
            "Episode 4700: Total Reward: 20.0\n",
            "Episode 4800: Total Reward: 66.0\n",
            "Episode 4900: Total Reward: 51.0\n",
            "Episode 5000: Total Reward: 208.0\n",
            "Episode 5100: Total Reward: 100.0\n",
            "Episode 5200: Total Reward: 36.0\n",
            "Episode 5300: Total Reward: 36.0\n",
            "Episode 5400: Total Reward: 16.0\n",
            "Episode 5500: Total Reward: 62.0\n",
            "Episode 5600: Total Reward: 72.0\n",
            "Episode 5700: Total Reward: 78.0\n",
            "Episode 5800: Total Reward: 97.0\n",
            "Episode 5900: Total Reward: 127.0\n",
            "Episode 6000: Total Reward: 29.0\n",
            "Episode 6100: Total Reward: 94.0\n",
            "Episode 6200: Total Reward: 64.0\n",
            "Episode 6300: Total Reward: 46.0\n",
            "Episode 6400: Total Reward: 59.0\n",
            "Episode 6500: Total Reward: 56.0\n",
            "Episode 6600: Total Reward: 56.0\n",
            "Episode 6700: Total Reward: 21.0\n",
            "Episode 6800: Total Reward: 11.0\n",
            "Episode 6900: Total Reward: 47.0\n",
            "Episode 7000: Total Reward: 44.0\n",
            "Episode 7100: Total Reward: 202.0\n",
            "Episode 7200: Total Reward: 174.0\n",
            "Episode 7300: Total Reward: 166.0\n",
            "Episode 7400: Total Reward: 108.0\n",
            "Episode 7500: Total Reward: 30.0\n",
            "Episode 7600: Total Reward: 49.0\n",
            "Episode 7700: Total Reward: 71.0\n",
            "Episode 7800: Total Reward: 69.0\n",
            "Episode 7900: Total Reward: 21.0\n",
            "Episode 8000: Total Reward: 155.0\n",
            "Episode 8100: Total Reward: 99.0\n",
            "Episode 8200: Total Reward: 51.0\n",
            "Episode 8300: Total Reward: 92.0\n",
            "Episode 8400: Total Reward: 157.0\n",
            "Episode 8500: Total Reward: 89.0\n",
            "Episode 8600: Total Reward: 44.0\n",
            "Episode 8700: Total Reward: 133.0\n",
            "Episode 8800: Total Reward: 41.0\n",
            "Episode 8900: Total Reward: 121.0\n",
            "Episode 9000: Total Reward: 57.0\n",
            "Episode 9100: Total Reward: 79.0\n",
            "Episode 9200: Total Reward: 32.0\n",
            "Episode 9300: Total Reward: 42.0\n",
            "Episode 9400: Total Reward: 48.0\n",
            "Episode 9500: Total Reward: 45.0\n",
            "Episode 9600: Total Reward: 111.0\n",
            "Episode 9700: Total Reward: 132.0\n",
            "Episode 9800: Total Reward: 123.0\n",
            "Episode 9900: Total Reward: 50.0\n"
          ]
        }
      ]
    },
    {
      "cell_type": "markdown",
      "source": [
        "# Plot results"
      ],
      "metadata": {
        "id": "-4oYWlDfXapo"
      }
    },
    {
      "cell_type": "code",
      "source": [
        "# Smooth rewards for better visualization\n",
        "smoothed_rewards = np.convolve(rewards, np.ones(50)/50, mode='valid')\n",
        "\n",
        "# Plot the rewards\n",
        "plt.plot(smoothed_rewards)\n",
        "plt.xlabel(\"Episode\")\n",
        "plt.ylabel(\"Total Reward\")\n",
        "plt.title(\"Training Progress (Stabilized)\")\n",
        "plt.show()"
      ],
      "metadata": {
        "id": "YXr9bABGVmj3",
        "outputId": "42fca311-4ab6-4bda-b6e4-ca850f654ea8",
        "colab": {
          "base_uri": "https://localhost:8080/",
          "height": 472
        }
      },
      "execution_count": 40,
      "outputs": [
        {
          "output_type": "display_data",
          "data": {
            "text/plain": [
              "<Figure size 640x480 with 1 Axes>"
            ],
            "image/png": "[encoded data removed]"
          },
          "metadata": {}
        }
      ]
    }
  ],
  "metadata": {
    "colab": {
      "provenance": [],
      "include_colab_link": true
    },
    "kernelspec": {
      "display_name": "myenv",
      "language": "python",
      "name": "python3"
    },
    "language_info": {
      "codemirror_mode": {
        "name": "ipython",
        "version": 3
      },
      "file_extension": ".py",
      "mimetype": "text/x-python",
      "name": "python",
      "nbconvert_exporter": "python",
      "pygments_lexer": "ipython3",
      "version": "3.13.0"
    }
  },
  "nbformat": 4,
  "nbformat_minor": 0
}